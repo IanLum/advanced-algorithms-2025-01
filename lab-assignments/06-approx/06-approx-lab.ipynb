{
 "cells": [
  {
   "cell_type": "markdown",
   "metadata": {},
   "source": [
    "# Approx Lab\n",
    "\n",
    "The goal of this lab is to gain experience using approximation algorithms.\n",
    "\n",
    "For the purpose of this assignment, you will be implementing the knapsack problem. Before continuing, the following cell contains any dependencies you may need for this assignment."
   ]
  },
  {
   "cell_type": "code",
   "execution_count": 1,
   "metadata": {},
   "outputs": [],
   "source": [
    "import pandas as pd"
   ]
  },
  {
   "cell_type": "markdown",
   "metadata": {},
   "source": [
    "## Background Info\n",
    "\n",
    "### Knapsack Problem\n",
    "We are actually going to be looking at a specific (hopefully fun) implementation of the knapsack problem.\n",
    "\n",
    "The traditional knapsack problem asks you to pack a set of items, with given weights and values into a \"knapsack\" with a maximum capacity. You cannot pack more items than the capacity of the knapsack. The goal is to select a subset of items that maximize the total value with what can fit in the knapsack. The name \"knapsack\" comes from the similarity to a hiker trying to pack a bag without going over a certain weight.\n",
    "\n",
    "The knapsack problem is an NP-Hard optimization problem, which is why it is one of the classic approximation algorithms.\n",
    "\n",
    "### Specifications for this Lab\n",
    "The variation that we will be doing in this assignment is referred to as an 0/1 knapsack problem, meaning that items must be completely put in the knapsack or they must be left behind (you can't have a fractional portion of an item). We will be representing this as a simple fantasy sports league - specifically Formula 1 drivers. \n",
    "\n",
    "You are provided with a list of F1 drivers and constructors with given costs and points as well as a budget of $100M. You will be selecting five drivers and two constructors (teams). \n",
    "\n",
    "### Scoring Information\n",
    "Points are gained from qualification results for drivers and constructors as well as race results for drivers and constructors. \n",
    "\n",
    "<!-- Qualifications\n",
    "- Drivers score based on their resulting position \n",
    "- Constructor score the combined total of their two drivers in qualifying plus a modifier based on how far both their drivers get. -->\n",
    "<!-- \n",
    "| Drivers    | Points |\n",
    "| -------- | ------- |\n",
    "| Pole Position (1st Place) | 10 |\n",
    "| 2nd Place | 9 |\n",
    "| 3rd Place | 8 |\n",
    "| 4th Place | 7 |\n",
    "| 5th Place | 6 |\n",
    "| 6th Place | 5 |\n",
    "| 7th Place | 4 |\n",
    "| 8th Place | 3 |\n",
    "| 9th Place | 2 |\n",
    "| 10th Place | 1 |\n",
    "| 11th-20th Place | 0 |\n",
    "| No Time Set | 0 |\n",
    "| Disqualification | 0 | -->\n",
    "\n",
    "\n",
    "<!-- | Constructors | Points |\n",
    "| ----------- | ------- |\n",
    "| Neither Driver Reaches Q2 | -1 |\n",
    "| One Driver Reaches Q2 | 1 |\n",
    "| Both Drivers Reach Q2 | 5 |\n",
    "| Both Drivers Reach Q3 | 10 | -->\n",
    "\n",
    "\n",
    "<!-- Race\n",
    "- Drivers score based on their resulting position, position difference from starting order, and some additional bonuses\n",
    "- Constructors score a combined total of their two drivers' results (excluding the Driver of the Day bonus) ~~plus a modifier based on pitstop times~~ -->\n",
    "\n",
    "<!-- | Drivers | Points |\n",
    "| -------- | ------- |\n",
    "| Positions Gained | 1/position |\n",
    "| Positions Lost | -1/position |\n",
    "| Overtakes Made | 1/overtake |\n",
    "| Fastest Lap | 10 |\n",
    "| Driver of the Day | 10 | -->\n",
    "\n",
    "<!-- | Race Result | Points |\n",
    "| -------- | ------- |\n",
    "| 1st Place | 25 |\n",
    "| 2nd Place | 18 |\n",
    "| 3rd Place | 15 |\n",
    "| 4th Place | 12 |\n",
    "| 5th Place | 10 |\n",
    "| 6th Place | 8 |\n",
    "| 7th Place | 6 |\n",
    "| 8th Place | 4 |\n",
    "| 9th Place | 2 |\n",
    "| 10th Place | 1 |\n",
    "| 11th-20th Place | 0 |\n",
    "| DNF | -20 |\n",
    "| Disqualification | -20 | -->\n",
    "\n",
    "Fortunately for you, we have access to the current point standings post-2025 China GP for drivers & constructors, which are available in `drivers.csv` & `constructors.csv`.\n",
    "\n",
    "*Note: The costs are in millions, so 30 is actually 30 M.\n",
    "\n",
    "### Questions (Answered in Various Parts of the Lab): \n",
    "1. What is the general setup of the problem?\n",
    "2. Determining the mathematical functions of the problem\n",
    "3. Implementing a greedy algorithm\n"
   ]
  },
  {
   "cell_type": "markdown",
   "metadata": {},
   "source": [
    "## A. Assessing the Problem"
   ]
  },
  {
   "cell_type": "markdown",
   "metadata": {},
   "source": [
    "The values that are provided for this lab are from the points distribution PRIOR to the Japan Grand Prix (which means we can actually compare with the race results at the submission deadline!)"
   ]
  },
  {
   "cell_type": "markdown",
   "metadata": {},
   "source": [
    "Create a fantasy team https://fantasy.formula1.com/en/create-team for the upcoming Grand Prix to get a better idea of what drivers, constructors, points, and the budget are. Who is on your team & how much did you spend? Don't spend too much time on this, it really is just to get familiar with the format.\n",
    "\n",
    "- Drivers: Ocon, Albon, Bearman, Stroll, Norris\n",
    "- Constructors: Mercedes, Haas\n",
    "- Spent: $98M\n",
    "- Points: 412\n",
    "\n",
    "What represents the \"items\" in the knapsack? \n",
    "\n",
    "- The selected drivers and constructors\n",
    "\n",
    "What represents the weights?\n",
    "\n",
    "- Their cost\n",
    "\n",
    "What represents the values?\n",
    "\n",
    "- Their points"
   ]
  },
  {
   "cell_type": "code",
   "execution_count": 81,
   "metadata": {},
   "outputs": [
    {
     "name": "stdout",
     "output_type": "stream",
     "text": [
      "                   Driver  Points  Cost\n",
      "0            Lando Norris     100  29.6\n",
      "1   Andrea Kimi Antonelli      61  19.3\n",
      "2          George Russell      60  21.4\n",
      "3          Max Verstappen      59  28.6\n",
      "4           Oscar Piastri      55  23.0\n",
      "5            Lance Stroll      33   9.3\n",
      "6            Esteban Ocon      32   8.1\n",
      "7          Alexaner Albon      28  12.8\n",
      "8         Nico Hulkenberg      22   7.6\n",
      "9          Oliver Bearman      22   6.7\n",
      "10         Lewis Hamilton       3  23.6\n",
      "11           Yuki Tsunoda       0  16.8\n",
      "12            Liam Lawson       0   8.4\n",
      "13        Charles LeClerc       0  25.3\n",
      "14           Pierre Gasly      -7  10.6\n",
      "15           Isack Hadjar      -9   5.0\n",
      "16            Jack Doohan      -9   6.0\n",
      "17           Carlos Sainz     -11  11.9\n",
      "18      Gabriel Bortoleto     -11   4.8\n",
      "19        Fernando Alonso     -36   7.6\n",
      "       Constructor  Points  Cost\n",
      "0          McLaren     172  30.6\n",
      "1         Mercedes     136  23.3\n",
      "2  Red Bull Racing      86  25.4\n",
      "3             Haas      61   8.2\n",
      "4         Williams      36  13.5\n",
      "5     Racing Bulls      32   8.0\n",
      "6      Kick Sauber      15   6.2\n",
      "7          Ferrari      13  27.1\n",
      "8     Aston Martin       5   7.3\n",
      "9           Alpine     -20   8.3\n"
     ]
    }
   ],
   "source": [
    "# Load the data from the CSV files into a format that you are comfortable working with\n",
    "# This can be arrays, dictionaries, or pd DataFrames\n",
    "drivers = pd.read_csv('drivers.csv')\n",
    "constructors = pd.read_csv('constructors.csv')\n",
    "# Print/Display your data as well to confirm that you have successfully saved it.\n",
    "print(drivers)\n",
    "print(constructors)"
   ]
  },
  {
   "cell_type": "markdown",
   "metadata": {},
   "source": [
    "# B. Integer Program\n",
    "\n",
    "Before implementing our approx algorithm, we need to first consider the integer program. \n",
    "\n",
    "Given the following variables, create an integer program that maximizes the total points of drivers while remaining under the budget: \n",
    "- $x_i$ is the decision variable that determines whether driver $i$ is included in the team or not\n",
    "- $p_i$ is the # of points that driver $i$ is worth\n",
    "- $c_i$ is the cost of driver $i$\n",
    "\n",
    "For now, we will focus on just the drivers and ignore the constructors. We will also temporarily reduce our budget to **$50M**\n",
    "\n",
    "While we are not planning on implementing the full integer program, it helps us quantify parts of the problem"
   ]
  },
  {
   "cell_type": "markdown",
   "metadata": {},
   "source": [
    "\n",
    "$\\text{maximize} \\quad \\sum_{i=0}^{I} x_i p_i$  \\\n",
    "subject to:\n",
    "- $\\sum_{i=0}^{I} x_i c_i \\leq 50$\n",
    "- $\\sum_{i=0}^{I} x_i \\leq 5$ \n",
    "\n",
    "where $I$ is the total number of drivers\n"
   ]
  },
  {
   "cell_type": "markdown",
   "metadata": {},
   "source": [
    "## Decision Variable & Constraints\n",
    "\n",
    "We can make helper functions for our future algorithm based on constraints that we derive when forming the IP: \n",
    "1. Which drivers should be included in our solution? \n",
    "2. What is our maximum cost?\n",
    "3. What is our maximum # of drivers? "
   ]
  },
  {
   "cell_type": "code",
   "execution_count": null,
   "metadata": {},
   "outputs": [],
   "source": [
    "BUDGET = 50 # in millions\n",
    "MAX_DRIVERS = 5\n",
    "\n",
    "def remaining_budget(selected_drivers: pd.DataFrame) -> float:\n",
    "    return BUDGET - selected_drivers[\"Cost\"].sum()"
   ]
  },
  {
   "cell_type": "markdown",
   "metadata": {},
   "source": [
    "# C. Greedy Algorithm\n"
   ]
  },
  {
   "cell_type": "markdown",
   "metadata": {},
   "source": [
    "There are multiple ways we can go about solving the knapsack problem. For this lab, we will be focusing on a greedy algorithm and a variant of that.\n",
    "\n",
    "Let's start with a basic greedy algorithm:\n",
    "1. Calculate the value-to-cost ratio for each driver \n",
    "2. Sort drivers in non-increasing order of value-to-cost\n",
    "2. Greedily select drivers from list until either budget or max drivers constraint is hit\n",
    "\n",
    "Use the helper methods from the previous part in your implementation."
   ]
  },
  {
   "cell_type": "code",
   "execution_count": null,
   "metadata": {},
   "outputs": [
    {
     "name": "stdout",
     "output_type": "stream",
     "text": [
      "         Driver Points  Cost  UnitCost\n",
      "0  Esteban Ocon     32   8.1  3.950617\n",
      "1  Lance Stroll     33   9.3  3.548387\n",
      "2  Lando Norris    100  29.6  3.378378\n",
      "Total points: 165, Total cost: 47.0\n"
     ]
    }
   ],
   "source": [
    "def value_to_cost(items: pd.DataFrame) -> pd.DataFrame:\n",
    "    out = items.copy()\n",
    "    out[\"UnitCost\"] = items[\"Points\"] / items[\"Cost\"]\n",
    "    return out\n",
    "\n",
    "\n",
    "\n",
    "def sort_items(items: pd.DataFrame) -> pd.DataFrame:\n",
    "    return items.sort_values(by=\"UnitCost\", ascending=False)\n",
    "\n",
    "\n",
    "def greedy_driver_select(drivers):\n",
    "    drivers = sort_items(value_to_cost(drivers))\n",
    "    selected_drivers = pd.DataFrame(columns=drivers.columns)\n",
    "    for _, row in drivers.iterrows():\n",
    "        if (\n",
    "            remaining_budget(selected_drivers) > row[\"Cost\"]\n",
    "            and len(selected_drivers) < MAX_DRIVERS\n",
    "        ):\n",
    "            # Keep adding drivers if enough budget and below max drivers\n",
    "            selected_drivers.loc[len(selected_drivers)] = row\n",
    "    return selected_drivers\n",
    "\n",
    "selected = greedy_driver_select(drivers)\n",
    "print(selected)\n",
    "print(f\"Total points: {sum(selected[\"Points\"])}, Total cost: {sum(selected[\"Cost\"])}\")"
   ]
  },
  {
   "cell_type": "markdown",
   "metadata": {},
   "source": [
    "Try running your basic greedy algorithm. \n",
    "\n",
    "You may notice a few flaws:\n",
    "1. The greedy algorithm is only looking at value-to-cost ratio, which may miss out on an overall improvement in value that still fits within the budget\n",
    "2. Depending on your implementation, you may not currently be meeting the \"5 total drivers\" constraint - this is fine"
   ]
  },
  {
   "cell_type": "markdown",
   "metadata": {},
   "source": [
    "\n",
    "## Redux Greedy Algorithm\n",
    "We are going to next implement a small adjustment to this algorithm in order to improve its performance. \\\n",
    "This is a 2-approximation for the knapsack problem. \n",
    "\n",
    "1. Calculate the value-to-cost ratio for each driver\n",
    "2. Sort drivers in non-increasing order of value-to-cost\n",
    "3. Greedily add items until we hit an item that is too big\n",
    "4. Compare the too big item against the already existing list of items & pick the better of the two\n",
    "\n",
    "It might help to make a separate function to handle #4. "
   ]
  },
  {
   "cell_type": "code",
   "execution_count": 112,
   "metadata": {},
   "outputs": [
    {
     "name": "stdout",
     "output_type": "stream",
     "text": [
      "         Driver Points  Cost  UnitCost\n",
      "0  Esteban Ocon     32   8.1  3.950617\n",
      "1  Lance Stroll     33   9.3  3.548387\n",
      "2  Lando Norris    100  29.6  3.378378\n",
      "Total points: 165, Total cost: 47.0\n"
     ]
    }
   ],
   "source": [
    "def replace_if_optimal(selected_drivers: pd.DataFrame, new_driver: pd.Series) -> pd.DataFrame:\n",
    "    for idx, row in selected_drivers.iterrows():\n",
    "        if (\n",
    "            # If enough budget\n",
    "            new_driver[\"Cost\"] - row[\"Cost\"] <= remaining_budget(selected_drivers)\n",
    "            # If driver is more points\n",
    "            and new_driver[\"Points\"] > row[\"Points\"]\n",
    "        ):\n",
    "            # Replace the driver\n",
    "            selected_drivers.loc[idx] = new_driver\n",
    "            return selected_drivers\n",
    "    # Otherwise return original df\n",
    "    return selected_drivers\n",
    "\n",
    "\n",
    "def redux_greedy_driver_select(drivers):\n",
    "    drivers = sort_items(value_to_cost(drivers))\n",
    "    selected_drivers = pd.DataFrame(columns=drivers.columns)\n",
    "    for _, row in drivers.iterrows():\n",
    "        if (\n",
    "            remaining_budget(selected_drivers) >= row[\"Cost\"]\n",
    "            and len(selected_drivers) < MAX_DRIVERS\n",
    "        ):\n",
    "            # Neither constraint reached\n",
    "            selected_drivers.loc[len(selected_drivers)] = row\n",
    "        else:\n",
    "            selected_drivers = replace_if_optimal(selected_drivers, row)\n",
    "\n",
    "    return selected_drivers\n",
    "\n",
    "\n",
    "# This algorithm doesn't actually perform differently so I added an example new driver to test\n",
    "\n",
    "# test = drivers.copy()\n",
    "# test.loc[len(test)] = [\"Al Sacco\", 34, 12.3]\n",
    "# selected = redux_greedy_driver_select(test)\n",
    "\n",
    "selected = redux_greedy_driver_select(drivers)\n",
    "print(selected)\n",
    "print(f\"Total points: {sum(selected[\"Points\"])}, Total cost: {sum(selected[\"Cost\"])}\")"
   ]
  },
  {
   "cell_type": "markdown",
   "metadata": {},
   "source": [
    "# D. Reintroducing Constructors\n",
    "\n",
    "We've been neglecting our constructors so far and cutting our budget. Let's make them feel included in our processes again. \n",
    "\n",
    "## Integer Program\n",
    "\n",
    "We should start by redefining our original IP to see what constraints we need to add. \\\n",
    "We've added some more variables to our IP: \n",
    "- $x_j$ is the decision variable that determines whether constructor $j$ is included in the team or not \n",
    "- $p_j$ is the # of points that constructor $j$ is worth\n",
    "- $c_j$ is the cost of constructor $j$\n",
    "\n",
    "Our budget has also been increased back to **100M**. "
   ]
  },
  {
   "cell_type": "markdown",
   "metadata": {},
   "source": [
    "\n",
    "$\\text{maximize} \\quad \\sum_{i=0}^{I} x_i p_i + \\sum_{j=0}^{J} x_j p_j$  \\\n",
    "subject to:\n",
    "- $\\sum_{i=0}^{I} x_i c_i + \\sum_{j=0}^{J} x_j c_j \\leq 100$\n",
    "- $\\sum_{i=0}^{I} x_i \\leq 5$ \n",
    "- $\\sum_{j=0}^{J} x_j \\leq 2$\n",
    "\n",
    "where $I$ is the total number of drivers and $J$ is the total number of constructors\n"
   ]
  },
  {
   "cell_type": "markdown",
   "metadata": {},
   "source": [
    "## Constraints \n",
    "\n",
    "To redefine our greedy algorithm to include constructors, we have to also write helpers that correspond to our new constraints."
   ]
  },
  {
   "cell_type": "code",
   "execution_count": 114,
   "metadata": {},
   "outputs": [],
   "source": [
    "BUDGET = 100  # in millions\n",
    "MAX_DRIVERS = 5\n",
    "MAX_CONSTRUCTORS = 2\n",
    "\n",
    "def remaining_budget(selected: pd.DataFrame) -> float:\n",
    "    return BUDGET - selected[\"Cost\"].sum()\n",
    "\n",
    "def is_selection_full(selected: pd.DataFrame, current: pd.Series) -> bool:\n",
    "    \"\"\"\n",
    "    Returns False if less than the max number of drivers or constructors,\n",
    "    depending on the type of `current` are selected. Returns True otherwise.\n",
    "    \"\"\"\n",
    "    if (\n",
    "        current[\"Type\"] == \"Driver\"\n",
    "        and len(selected[selected[\"Type\"] == \"Driver\"]) < MAX_DRIVERS\n",
    "    ):\n",
    "        return False\n",
    "    if (\n",
    "        current[\"Type\"] == \"Constructor\"\n",
    "        and len(selected[selected[\"Type\"] == \"Constructor\"])  < MAX_CONSTRUCTORS\n",
    "    ):\n",
    "        return False\n",
    "    return True"
   ]
  },
  {
   "cell_type": "markdown",
   "metadata": {},
   "source": [
    "## Greedy Algorithm\n",
    "\n",
    "Update the greedy algorithm to calculate for buying both constructors and drivers. \\\n",
    "Remember, your list of non-increasing value-to-cost ratios should be a combination of both drivers & constructors. "
   ]
  },
  {
   "cell_type": "code",
   "execution_count": 124,
   "metadata": {},
   "outputs": [
    {
     "name": "stdout",
     "output_type": "stream",
     "text": [
      "==================== Not Redux ====================\n",
      "              Name Points  Cost         Type  UnitCost\n",
      "0             Haas     61   8.2  Constructor  7.439024\n",
      "1         Mercedes    136  23.3  Constructor   5.83691\n",
      "2     Esteban Ocon     32   8.1       Driver  3.950617\n",
      "3     Lance Stroll     33   9.3       Driver  3.548387\n",
      "4     Lando Norris    100  29.6       Driver  3.378378\n",
      "5   Oliver Bearman     22   6.7       Driver  3.283582\n",
      "6  Nico Hulkenberg     22   7.6       Driver  2.894737\n",
      "Total points: 406, Total cost: 92.8\n",
      "\n",
      "==================== Redux ====================\n",
      "             Name Points  Cost         Type  UnitCost\n",
      "0         McLaren    172  30.6  Constructor  5.620915\n",
      "1        Mercedes    136  23.3  Constructor   5.83691\n",
      "2    Lando Norris    100  29.6       Driver  3.378378\n",
      "3    Lance Stroll     33   9.3       Driver  3.548387\n",
      "4  Oliver Bearman     22   6.7       Driver  3.283582\n",
      "Total points: 463, Total cost: 99.5\n"
     ]
    }
   ],
   "source": [
    "def greedy_f1(drivers, constructors, redux=True):\n",
    "    drivers = drivers.copy()\n",
    "    constructors = constructors.copy()\n",
    "    # Add type label\n",
    "    drivers[\"Type\"] = \"Driver\"\n",
    "    constructors[\"Type\"] = \"Constructor\"\n",
    "    # Rename columns to \"Name\"\n",
    "    drivers.rename(columns={\"Driver\": \"Name\"}, inplace=True)\n",
    "    constructors.rename(columns={\"Constructor\": \"Name\"}, inplace=True)\n",
    "    # Combine to single df\n",
    "    combined = sort_items(value_to_cost(pd.concat([drivers, constructors])))\n",
    "\n",
    "    selected = pd.DataFrame(columns=combined.columns)\n",
    "\n",
    "    for _, row in combined.iterrows():\n",
    "        if (\n",
    "            remaining_budget(selected) > row[\"Cost\"]\n",
    "            and not is_selection_full(selected, row)\n",
    "        ):\n",
    "            # Keep adding drivers/constructors if enough budget and below max drivers/constructors\n",
    "            selected.loc[len(selected)] = row\n",
    "        elif redux:\n",
    "            # Replace if optimal\n",
    "            selected = replace_if_optimal(selected, row)\n",
    "    return selected\n",
    "\n",
    "selected = greedy_f1(drivers, constructors, redux=False)\n",
    "print(\"==================== Not Redux ====================\")\n",
    "print(selected)\n",
    "print(f\"Total points: {sum(selected[\"Points\"])}, Total cost: {sum(selected[\"Cost\"])}\")\n",
    "\n",
    "print(\"\")\n",
    "\n",
    "selected = greedy_f1(drivers, constructors)\n",
    "print(\"==================== Redux ====================\")\n",
    "print(selected)\n",
    "print(f\"Total points: {sum(selected[\"Points\"])}, Total cost: {sum(selected[\"Cost\"])}\")"
   ]
  }
 ],
 "metadata": {
  "kernelspec": {
   "display_name": "venv",
   "language": "python",
   "name": "python3"
  },
  "language_info": {
   "codemirror_mode": {
    "name": "ipython",
    "version": 3
   },
   "file_extension": ".py",
   "mimetype": "text/x-python",
   "name": "python",
   "nbconvert_exporter": "python",
   "pygments_lexer": "ipython3",
   "version": "3.13.1"
  }
 },
 "nbformat": 4,
 "nbformat_minor": 2
}
