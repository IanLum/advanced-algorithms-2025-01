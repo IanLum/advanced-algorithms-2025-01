{
 "cells": [
  {
   "cell_type": "markdown",
   "metadata": {},
   "source": [
    "# Heuristics Lab\n",
    "The goal of this lab is to gain experience using heuristics in tandem with other algorithms.\n",
    "\n",
    "For the purposes of this assignment, you will be implementing a solver for the \"2048\" game (whose implementation will already be given to you). Before continuing, the following cell contains any dependencies you may need for this assignment: "
   ]
  },
  {
   "cell_type": "code",
   "execution_count": 235,
   "metadata": {},
   "outputs": [],
   "source": [
    "import matplotlib.pyplot as plt\n",
    "\n",
    "from game import *"
   ]
  },
  {
   "cell_type": "markdown",
   "metadata": {},
   "source": [
    "You should also look at `game.py` to understand how the in-line version has been implemented. "
   ]
  },
  {
   "cell_type": "markdown",
   "metadata": {},
   "source": [
    "## Background Info\n",
    "\n",
    "2048 is a single-player sliding block puzzle game played on a 4x4 grid where tiles containing even numbers can be moved around and merged to create larger numbers. If this does not ring a bell, it is highly recommended that you play the game at some point (enjoy the cupcake version [here](https://0x0800.github.io/2048-CUPCAKES/)).\n",
    "\n",
    "While the implementation has been given, ensure that you understand what a tile, a turn, a legal move, and when the game ends is.\n",
    "\n",
    "This particular implementation/walk through focuses on utilization of heuristic functions themselves (or strategies that are simple enough that a human player could follow them) & only looks ahead by 1 move (as opposed to adding this heuristic into another algorithm like nimimax or expectimax - which would yield better results)\n",
    "\n",
    "Questions: \n",
    "1. What is a potential representation of the solution space?\n",
    "2. How can you evaluate the results of a single move? \n",
    "3. How might you select and combine heuristics?\n",
    "4. How can you evaluate the results of an entire game?\n"
   ]
  },
  {
   "cell_type": "markdown",
   "metadata": {},
   "source": [
    "Answer:\n",
    "1. Any board arrangement with any of the tiles\n",
    "2. Highest number, total free space, if the highest tile is in the corner\n",
    "3. Weight and sum them\n",
    "4. Total score or largest tile when the game ends"
   ]
  },
  {
   "cell_type": "markdown",
   "metadata": {},
   "source": [
    "## A. Assessing the Problem\n",
    "\n",
    "What is a potential representation of the solution space?\n",
    "\n",
    "- Any board arrangement with any of the tiles\n",
    "\n",
    "Play a SINGLE round of 2048 (you can do this on the website with the nice UI instead of the text version). What score did you get?\n",
    "\n",
    "16116\n"
   ]
  },
  {
   "cell_type": "markdown",
   "metadata": {},
   "source": [
    "## B. Evaluating a Single Move\n",
    "\n",
    "Before implementing specific heuristics, a general implementation procedure must be formed.\n",
    "\n",
    "Use the following pseudocode to write a function to evaluate a game _G_ in its current state:\n",
    "\n",
    "**Input:** _G_ - a game, _M_ - a set of moves \\\n",
    "**Output:** The best moves according to the specific evaluator\n",
    "\n",
    "**procedure** EvaluateGame(_G_, _M_)\\\n",
    "&emsp;_bestScore_ ← −1\\\n",
    "&emsp;_bestMoves_ ← ∅\\\n",
    "&emsp;**for all** _move_ ∈ _M_ **do**\\\n",
    "&emsp;&emsp;_G'_ ← _G_\\\n",
    "&emsp;&emsp;apply _move_ to _G'_\\\n",
    "&emsp;&emsp;_curScore_ ← the score given by the evaluator’s specific criteria\\\n",
    "&emsp;&emsp;**if** _curScore_ > _bestScore_ **then**\\\n",
    "&emsp;&emsp;&emsp;_bestScore_ ← _curScore_\\\n",
    "&emsp;&emsp;&emsp;_bestMoves_ ← {_move_}\\\n",
    "&emsp;&emsp;**else if** _curScore_ = _bestScore_ **then**\\\n",
    "&emsp;&emsp;&emsp;_bestMoves_ ← _bestMoves_ ∪ {_move_}\\\n",
    "&emsp;&emsp;**end if**\\\n",
    "&emsp;**end for**\\\n",
    "&emsp;return _bestMoves_\\\n",
    "**end procedure**\n",
    "\n",
    "For now, use the overall game score as the evaluation criteria. Remember to consider how the game/board is referenced when running each move."
   ]
  },
  {
   "cell_type": "code",
   "execution_count": 219,
   "metadata": {},
   "outputs": [],
   "source": [
    "def evaluate_game(game: Board, moves): \n",
    "    best_score = 0\n",
    "    best_moves = []\n",
    "    for move in moves:\n",
    "        test_game = Board()\n",
    "        test_game.board = game.board.copy()\n",
    "        # skip invalid moves\n",
    "        if not test_game.play_turn(move):\n",
    "            continue\n",
    "\n",
    "        curr_score = test_game.score\n",
    "        if curr_score > best_score:\n",
    "            best_score = curr_score\n",
    "            best_moves = [move]\n",
    "        elif curr_score == best_score:\n",
    "            best_moves.append(move)\n",
    "    return best_moves"
   ]
  },
  {
   "cell_type": "markdown",
   "metadata": {},
   "source": [
    "## C. Selecting Heuristics\n",
    "\n",
    "### Refactoring Evaluation\n",
    "\n",
    "At this point in time, the solver uses a 'greedy' heuristic of purely selecting tiles based on the highest immediate increase to score.  Before we try other heuristics, let's refactor the `evaluate_move()` function to take in a heuristic function instead of hardcoding the evaluator's criteria. \n",
    "\n",
    "After updating the function, it can be tested with the given `game_score()` heuristic function."
   ]
  },
  {
   "cell_type": "code",
   "execution_count": 220,
   "metadata": {},
   "outputs": [],
   "source": [
    "def game_score(game):\n",
    "    return game.score\n",
    "\n",
    "\n",
    "def evaluate_game(game, moves, heuristic):\n",
    "    best_value = 0\n",
    "    best_moves = []\n",
    "    for move in moves:\n",
    "        test_game = Board()\n",
    "        test_game.board = game.board.copy()\n",
    "        # skip invalid moves\n",
    "        if not test_game.play_turn(move):\n",
    "            continue\n",
    "\n",
    "        curr_value = heuristic(test_game)\n",
    "        if curr_value > best_value:\n",
    "            best_value = curr_value\n",
    "            best_moves = [move]\n",
    "        elif curr_value == best_value:\n",
    "            best_moves.append(move)\n",
    "    return best_moves"
   ]
  },
  {
   "cell_type": "markdown",
   "metadata": {},
   "source": [
    "We should also define a random move selection function as a groud zero/baseline point of comparison."
   ]
  },
  {
   "cell_type": "code",
   "execution_count": 221,
   "metadata": {},
   "outputs": [],
   "source": [
    "def random_move(moves: list):\n",
    "    return random.choice(moves)"
   ]
  },
  {
   "cell_type": "markdown",
   "metadata": {},
   "source": [
    "### Various Heuristics\n",
    "\n",
    "There are multiple heuristics that can be used to solve a 2048 game: \n",
    "- Greedy - approximates in-game score after each move & return the one with the highest result\n",
    "- Monotincity - values are either non-increasing or non-decreasing along all rows and non-increasing or non-decreasing along all columns\n",
    "- Empty - prioritizes moves that increases the # of empty tiles on the board\n",
    "- Smoothness - keeps tiles of similar value close to each other\n",
    "- Weight matrix - a grid w higher weighting tiles on one part of the grid (resulting in higher utility & the algorithm shifting tiles/converging them on one corner of weights)\n",
    "\n",
    "Pick two heuristics (other than greedy - which you already did) & write functions calculating those. You may choose another heuristic that is not on this list if you would prefer that."
   ]
  },
  {
   "cell_type": "code",
   "execution_count": 222,
   "metadata": {},
   "outputs": [],
   "source": [
    "def emptiness_heuristic(game):\n",
    "    return np.count_nonzero(game.board == 0)\n",
    "\n",
    "\n",
    "# Give heaviest weight to the largest value being in a corner\n",
    "def corner_heuristic(game):\n",
    "    max_val = game.board.max()\n",
    "    max_in_corner = 1 if max_val in [\n",
    "        game.board[0, 0],\n",
    "        game.board[0, 3],\n",
    "        game.board[3, 0],\n",
    "        game.board[3, 3]\n",
    "    ] else 0\n",
    "    return max_in_corner\n",
    "    "
   ]
  },
  {
   "cell_type": "markdown",
   "metadata": {},
   "source": [
    "## D. Evaluating a Game\n",
    "\n",
    "### Making the Solver\n",
    "\n",
    "Now that value has successfully been equated to the outcome of a single move, this needs to be done on the entire game. \n",
    "\n",
    "To start, your solver should take in a game and a heuristic to abide by. \n",
    "\n",
    "Most heuristic evaluators are non-terminal, meaning they will return more than one possible move of equal value. In order to combat this, a terminal evaluator must be included in the overall game solver to ensure only one move is selected. This can be done by randomly selecting from the list of \"best moves\" provided by the heuristic. "
   ]
  },
  {
   "cell_type": "code",
   "execution_count": 223,
   "metadata": {},
   "outputs": [],
   "source": [
    "def run_solver(game, heuristic):\n",
    "    while True:\n",
    "        if not game.has_valid_moves():\n",
    "            break\n",
    "        game.play_turn(\n",
    "            random_move(\n",
    "                evaluate_game(game, ['w', 'a', 's', 'd'], heuristic)\n",
    "            )\n",
    "        )\n",
    "    game.display()"
   ]
  },
  {
   "cell_type": "markdown",
   "metadata": {},
   "source": [
    "Run the following cell to test your solver on just the `game_score` heuristic:"
   ]
  },
  {
   "cell_type": "code",
   "execution_count": 224,
   "metadata": {},
   "outputs": [
    {
     "name": "stdout",
     "output_type": "stream",
     "text": [
      "Score: 1340\n",
      "[[  2   4  16   2]\n",
      " [  8  64 128  16]\n",
      " [  2  16  32   4]\n",
      " [  8   2   8   2]]\n",
      "Score: 1340\n",
      "[[  2   4  16   2]\n",
      " [  8  64 128  16]\n",
      " [  2  16  32   4]\n",
      " [  8   2   8   2]]\n"
     ]
    }
   ],
   "source": [
    "g = Board()\n",
    "run_solver(g, game_score)\n",
    "g.display()"
   ]
  },
  {
   "cell_type": "markdown",
   "metadata": {},
   "source": [
    "Try the full game solver on some of your other heuristics. Note that sometimes they will flatline or get stuck in a pattern of moves that do not appear to converge in a termination point."
   ]
  },
  {
   "cell_type": "code",
   "execution_count": 225,
   "metadata": {},
   "outputs": [
    {
     "ename": "KeyboardInterrupt",
     "evalue": "",
     "output_type": "error",
     "traceback": [
      "\u001b[1;31m---------------------------------------------------------------------------\u001b[0m",
      "\u001b[1;31mKeyboardInterrupt\u001b[0m                         Traceback (most recent call last)",
      "Cell \u001b[1;32mIn[225], line 2\u001b[0m\n\u001b[0;32m      1\u001b[0m g \u001b[38;5;241m=\u001b[39m Board()\n\u001b[1;32m----> 2\u001b[0m \u001b[43mrun_solver\u001b[49m\u001b[43m(\u001b[49m\u001b[43mg\u001b[49m\u001b[43m,\u001b[49m\u001b[43m \u001b[49m\u001b[43mcorner_heuristic\u001b[49m\u001b[43m)\u001b[49m\n\u001b[0;32m      3\u001b[0m g\u001b[38;5;241m.\u001b[39mdisplay()\n",
      "Cell \u001b[1;32mIn[223], line 7\u001b[0m, in \u001b[0;36mrun_solver\u001b[1;34m(game, heuristic)\u001b[0m\n\u001b[0;32m      3\u001b[0m     \u001b[38;5;28;01mif\u001b[39;00m \u001b[38;5;129;01mnot\u001b[39;00m game\u001b[38;5;241m.\u001b[39mhas_valid_moves():\n\u001b[0;32m      4\u001b[0m         \u001b[38;5;28;01mbreak\u001b[39;00m\n\u001b[0;32m      5\u001b[0m     game\u001b[38;5;241m.\u001b[39mplay_turn(\n\u001b[0;32m      6\u001b[0m         random_move(\n\u001b[1;32m----> 7\u001b[0m             \u001b[43mevaluate_game\u001b[49m\u001b[43m(\u001b[49m\u001b[43mgame\u001b[49m\u001b[43m,\u001b[49m\u001b[43m \u001b[49m\u001b[43m[\u001b[49m\u001b[38;5;124;43m'\u001b[39;49m\u001b[38;5;124;43mw\u001b[39;49m\u001b[38;5;124;43m'\u001b[39;49m\u001b[43m,\u001b[49m\u001b[43m \u001b[49m\u001b[38;5;124;43m'\u001b[39;49m\u001b[38;5;124;43ma\u001b[39;49m\u001b[38;5;124;43m'\u001b[39;49m\u001b[43m,\u001b[49m\u001b[43m \u001b[49m\u001b[38;5;124;43m'\u001b[39;49m\u001b[38;5;124;43ms\u001b[39;49m\u001b[38;5;124;43m'\u001b[39;49m\u001b[43m,\u001b[49m\u001b[43m \u001b[49m\u001b[38;5;124;43m'\u001b[39;49m\u001b[38;5;124;43md\u001b[39;49m\u001b[38;5;124;43m'\u001b[39;49m\u001b[43m]\u001b[49m\u001b[43m,\u001b[49m\u001b[43m \u001b[49m\u001b[43mheuristic\u001b[49m\u001b[43m)\u001b[49m\n\u001b[0;32m      8\u001b[0m         )\n\u001b[0;32m      9\u001b[0m     )\n\u001b[0;32m     10\u001b[0m game\u001b[38;5;241m.\u001b[39mdisplay()\n",
      "Cell \u001b[1;32mIn[220], line 9\u001b[0m, in \u001b[0;36mevaluate_game\u001b[1;34m(game, moves, heuristic)\u001b[0m\n\u001b[0;32m      7\u001b[0m best_moves \u001b[38;5;241m=\u001b[39m []\n\u001b[0;32m      8\u001b[0m \u001b[38;5;28;01mfor\u001b[39;00m move \u001b[38;5;129;01min\u001b[39;00m moves:\n\u001b[1;32m----> 9\u001b[0m     test_game \u001b[38;5;241m=\u001b[39m \u001b[43mBoard\u001b[49m\u001b[43m(\u001b[49m\u001b[43m)\u001b[49m\n\u001b[0;32m     10\u001b[0m     test_game\u001b[38;5;241m.\u001b[39mboard \u001b[38;5;241m=\u001b[39m game\u001b[38;5;241m.\u001b[39mboard\u001b[38;5;241m.\u001b[39mcopy()\n\u001b[0;32m     11\u001b[0m     \u001b[38;5;66;03m# skip invalid moves\u001b[39;00m\n",
      "File \u001b[1;32mc:\\Users\\ilum\\Documents\\prog\\AA\\advanced-algorithms-2025-01\\lab-assignments\\03-heuristics\\game.py:16\u001b[0m, in \u001b[0;36mBoard.__init__\u001b[1;34m(self)\u001b[0m\n\u001b[0;32m     14\u001b[0m \u001b[38;5;28mself\u001b[39m\u001b[38;5;241m.\u001b[39mscore \u001b[38;5;241m=\u001b[39m \u001b[38;5;241m0\u001b[39m\n\u001b[0;32m     15\u001b[0m \u001b[38;5;28mself\u001b[39m\u001b[38;5;241m.\u001b[39madd_random_tile()\n\u001b[1;32m---> 16\u001b[0m \u001b[38;5;28;43mself\u001b[39;49m\u001b[38;5;241;43m.\u001b[39;49m\u001b[43madd_random_tile\u001b[49m\u001b[43m(\u001b[49m\u001b[43m)\u001b[49m\n",
      "File \u001b[1;32mc:\\Users\\ilum\\Documents\\prog\\AA\\advanced-algorithms-2025-01\\lab-assignments\\03-heuristics\\game.py:29\u001b[0m, in \u001b[0;36mBoard.add_random_tile\u001b[1;34m(self)\u001b[0m\n\u001b[0;32m     27\u001b[0m     \u001b[38;5;28;01mfor\u001b[39;00m c \u001b[38;5;129;01min\u001b[39;00m \u001b[38;5;28mrange\u001b[39m(\u001b[38;5;241m4\u001b[39m): \n\u001b[0;32m     28\u001b[0m         \u001b[38;5;28;01mif\u001b[39;00m \u001b[38;5;28mself\u001b[39m\u001b[38;5;241m.\u001b[39mboard[r, c] \u001b[38;5;241m==\u001b[39m \u001b[38;5;241m0\u001b[39m:\n\u001b[1;32m---> 29\u001b[0m             empty_tiles\u001b[38;5;241m.\u001b[39mappend((r, c))\n\u001b[0;32m     30\u001b[0m \u001b[38;5;28;01mif\u001b[39;00m empty_tiles:\n\u001b[0;32m     31\u001b[0m     r, c \u001b[38;5;241m=\u001b[39m random\u001b[38;5;241m.\u001b[39mchoice(empty_tiles)\n",
      "\u001b[1;31mKeyboardInterrupt\u001b[0m: "
     ]
    }
   ],
   "source": [
    "g = Board()\n",
    "run_solver(g, corner_heuristic)\n",
    "g.display()"
   ]
  },
  {
   "cell_type": "markdown",
   "metadata": {},
   "source": [
    "#### Resolving Flatlining\n",
    "\n",
    "One way to resolve flatlining is to to update the solver to count for a certain number of repeating moves and reintroduce a random selection."
   ]
  },
  {
   "cell_type": "code",
   "execution_count": 226,
   "metadata": {},
   "outputs": [],
   "source": [
    "def run_solver(game, heuristic): \n",
    "    threshold = 5 # Replace with your code (this can be a hardcoded value)\n",
    "    previous_move = None\n",
    "    repeat_count = 0\n",
    "\n",
    "    while True:\n",
    "        if not game.has_valid_moves():\n",
    "            break\n",
    "        move = random_move(evaluate_game(game, [\"w\", \"a\", \"s\", \"d\"], heuristic))\n",
    "        if move == previous_move:\n",
    "            repeat_count += 1\n",
    "            if repeat_count >= threshold:\n",
    "                move = random_move([\"w\", \"a\", \"s\", \"d\"])\n",
    "                repeat_count = 0\n",
    "        else:\n",
    "            repeat_count = 0\n",
    "        game.play_turn(move)\n",
    "        previous_move = move\n",
    "    # game.display()"
   ]
  },
  {
   "cell_type": "markdown",
   "metadata": {},
   "source": [
    "#### Combining Heuristics \n",
    "\n",
    "A simple way to incorporate multiple heuristics is to create a `combined_heuristic()` function that assigns weights to various heuristics. These weights can also help offset any discrepancies in the scale of resulting \"scores\".\n",
    "\n",
    "The combined score should be calculated by multiplying the weight of an individual heuristic's score with its score."
   ]
  },
  {
   "cell_type": "code",
   "execution_count": 227,
   "metadata": {},
   "outputs": [],
   "source": [
    "def combined_heuristic(game):\n",
    "    emptiness = emptiness_heuristic(game)\n",
    "    max_in_corner = corner_heuristic(game)\n",
    "\n",
    "    # Assign weights to each heuristic\n",
    "\n",
    "    # Combine heuristics\n",
    "    combined_score = 100 * max_in_corner + emptiness\n",
    "\n",
    "    return combined_score\n",
    "\n",
    "g = Board()\n",
    "run_solver(g, combined_heuristic)\n"
   ]
  },
  {
   "cell_type": "markdown",
   "metadata": {},
   "source": [
    "### Plotting Results\n",
    "\n",
    "Run 100 cycles of each of your heuristics & plot your results. You should have at least 3 lines (score, your heuristic #1, your heuristic #2, and potentially a completely random implementation)"
   ]
  },
  {
   "cell_type": "code",
   "execution_count": 228,
   "metadata": {},
   "outputs": [],
   "source": [
    "def play_n_times(n, heuristic):\n",
    "    scores = []\n",
    "    for _ in range(n):\n",
    "        g = Board()\n",
    "        run_solver(g, heuristic)\n",
    "        scores.append(g.score)\n",
    "    return scores"
   ]
  },
  {
   "cell_type": "code",
   "execution_count": 237,
   "metadata": {},
   "outputs": [],
   "source": [
    "n = 100\n",
    "\n",
    "score = play_n_times(n, game_score)\n",
    "emptiness = play_n_times(n, emptiness_heuristic)\n",
    "corner = play_n_times(n, corner_heuristic)\n",
    "combined = play_n_times(n, combined_heuristic)\n",
    "random_moves = play_n_times(n, lambda _: 0)"
   ]
  },
  {
   "cell_type": "code",
   "execution_count": 241,
   "metadata": {},
   "outputs": [
    {
     "data": {
      "text/plain": [
       "<matplotlib.legend.Legend at 0x1cdb973b750>"
      ]
     },
     "execution_count": 241,
     "metadata": {},
     "output_type": "execute_result"
    },
    {
     "data": {
      "image/png": "[encoded data removed]",
      "text/plain": [
       "<Figure size 640x480 with 1 Axes>"
      ]
     },
     "metadata": {},
     "output_type": "display_data"
    }
   ],
   "source": [
    "plt.hist(score, bins=range(0, 10000, 500), histtype=\"step\", label=\"score\")\n",
    "plt.hist(emptiness, bins=range(0, 10000, 500), histtype=\"step\", label=\"emptiness\")\n",
    "plt.hist(corner, bins=range(0, 10000, 500), histtype=\"step\", label=\"corner\")\n",
    "plt.hist(combined, bins=range(0, 10000, 500), histtype=\"step\", label=\"combined\")\n",
    "plt.hist(random_moves, bins=range(0, 10000, 500), histtype=\"step\", label=\"random\")\n",
    "plt.legend()"
   ]
  },
  {
   "cell_type": "markdown",
   "metadata": {},
   "source": []
  }
 ],
 "metadata": {
  "kernelspec": {
   "display_name": "venv",
   "language": "python",
   "name": "python3"
  },
  "language_info": {
   "codemirror_mode": {
    "name": "ipython",
    "version": 3
   },
   "file_extension": ".py",
   "mimetype": "text/x-python",
   "name": "python",
   "nbconvert_exporter": "python",
   "pygments_lexer": "ipython3",
   "version": "3.13.1"
  }
 },
 "nbformat": 4,
 "nbformat_minor": 2
}
